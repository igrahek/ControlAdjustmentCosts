{
 "cells": [
  {
   "cell_type": "markdown",
   "metadata": {},
   "source": [
    "# Load packages"
   ]
  },
  {
   "cell_type": "code",
   "execution_count": 1,
   "metadata": {},
   "outputs": [
    {
     "name": "stderr",
     "output_type": "stream",
     "text": [
      "/users/igrahek/.local/lib/python3.6/site-packages/IPython/parallel.py:13: ShimWarning: The `IPython.parallel` package has been deprecated since IPython 4.0. You should import from ipyparallel instead.\n",
      "  \"You should import from ipyparallel instead.\", ShimWarning)\n"
     ]
    }
   ],
   "source": [
    "import hddm\n",
    "import sys\n",
    "from kabuki.utils import concat_models\n",
    "import numpy as np\n",
    "import pandas as pd\n",
    "import os"
   ]
  },
  {
   "cell_type": "code",
   "execution_count": 3,
   "metadata": {},
   "outputs": [
    {
     "name": "stdout",
     "output_type": "stream",
     "text": [
      "modelMixed4\n",
      "modelMixed4_no_interaction\n"
     ]
    }
   ],
   "source": [
    "for x in os.listdir(path):\n",
    "    print(x)"
   ]
  },
  {
   "cell_type": "code",
   "execution_count": 4,
   "metadata": {},
   "outputs": [
    {
     "name": "stdout",
     "output_type": "stream",
     "text": [
      "WARNING: Custom link functions will not be loaded.\n",
      "WARNING: Custom link functions will not be loaded.\n",
      "WARNING: Custom link functions will not be loaded.\n",
      "WARNING: Custom link functions will not be loaded.\n",
      "WARNING: Custom link functions will not be loaded.\n",
      "WARNING: Will not save custom link functions.\n",
      "WARNING: Will not save custom link functions.\n",
      "WARNING: Will not save custom link functions.\n",
      "WARNING: Custom link functions will not be loaded.\n",
      "modelMixed4\n",
      "****DIC: -1918.657601\n",
      "****BPIC: -1458.698149\n",
      "WARNING: Custom link functions will not be loaded.\n",
      "WARNING: Custom link functions will not be loaded.\n",
      "WARNING: Custom link functions will not be loaded.\n",
      "WARNING: Custom link functions will not be loaded.\n",
      "WARNING: Custom link functions will not be loaded.\n",
      "WARNING: Will not save custom link functions.\n",
      "WARNING: Will not save custom link functions.\n",
      "WARNING: Will not save custom link functions.\n",
      "WARNING: Custom link functions will not be loaded.\n",
      "modelMixed4_no_interaction\n",
      "****DIC: -1745.669597\n",
      "****BPIC: -1335.469475\n"
     ]
    }
   ],
   "source": [
    "path = '../../output/Mixed/ae_only/'\n",
    "\n",
    "dic_dict = {}\n",
    "bdic_dict = {}\n",
    "\n",
    "\n",
    "# Transform into data frame and store in dic.csv\n",
    "vformula = []\n",
    "aformula = []\n",
    "tformula = []\n",
    "zformula = []\n",
    "nsamples = []\n",
    "dic = []\n",
    "bdic = []\n",
    "modelname = []\n",
    " \n",
    "#path to jmodel outdput \n",
    "\n",
    "\n",
    "# Load and concatenate models and extract DIC information\n",
    "for x in os.listdir(path):\n",
    "\n",
    "\n",
    "    models = []\n",
    "\n",
    "    current_modelname = x\n",
    "    \n",
    "\n",
    "    for i in range(5):\n",
    "        m = hddm.load(path + x + '/' + x + '_' + str(i))\n",
    "        models.append(m)\n",
    "    m_comb = concat_models(models)\n",
    "    print(current_modelname)\n",
    "    print(\"****DIC: %f\" %m_comb.dic)\n",
    "    print(\"****BPIC: %f\" %(m_comb.dic_info['pD'] + m_comb.dic))\n",
    "    \n",
    "    dic_dict[current_modelname] = m_comb.dic\n",
    "    bdic_dict[current_modelname] = m_comb.dic_info['pD'] + m_comb.dic\n",
    "\n",
    "    modelname.append(current_modelname)\n",
    "    dic.append(m_comb.dic)\n",
    "    bdic.append(m_comb.dic_info['pD'] + m_comb.dic)\n",
    "\n",
    "df = pd.DataFrame({'modelname':modelname,\n",
    "                   'DIC':dic,\n",
    "                   'BDIC':bdic})\n",
    "\n",
    "\n",
    "df.to_csv('Model_Comparison.csv',index=False)"
   ]
  }
 ],
 "metadata": {
  "kernelspec": {
   "display_name": "base",
   "language": "python",
   "name": "python3"
  },
  "language_info": {
   "codemirror_mode": {
    "name": "ipython",
    "version": 3
   },
   "file_extension": ".py",
   "mimetype": "text/x-python",
   "name": "python",
   "nbconvert_exporter": "python",
   "pygments_lexer": "ipython3",
   "version": "3.6.13"
  }
 },
 "nbformat": 4,
 "nbformat_minor": 2
}
